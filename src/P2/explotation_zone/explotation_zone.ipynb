{
 "cells": [
  {
   "cell_type": "code",
   "execution_count": 5,
   "id": "59b70dcb",
   "metadata": {},
   "outputs": [],
   "source": [
    "from pyspark.sql import SparkSession, functions as F\n",
    "from delta import configure_spark_with_delta_pip\n",
    "from pyspark.sql.functions import col, trim, lower, regexp_replace\n",
    "import os"
   ]
  },
  {
   "cell_type": "code",
   "execution_count": 6,
   "id": "c8a9bf6b",
   "metadata": {},
   "outputs": [],
   "source": [
    "mongo_connector_jar = \"/home/provira/Documents/TFM/TFM/src/P2/trusted_zone/jars/mongo-spark-connector_2.12-3.0.1.jar\"\n",
    "mongo_driver_jar = \"/home/provira/Documents/TFM/TFM/src/P2/trusted_zone/jars/mongo-java-driver-3.12.10.jar\""
   ]
  },
  {
   "cell_type": "code",
   "execution_count": null,
   "id": "224a21c5",
   "metadata": {},
   "outputs": [],
   "source": [
    "builder = SparkSession.builder \\\n",
    "    .appName(\"Explotation_zone\") \\\n",
    "    .config(\"spark.jars\", f\"{mongo_connector_jar},{mongo_driver_jar}\") \\\n",
    "    .config(\"spark.sql.extensions\", \"io.delta.sql.DeltaSparkSessionExtension\") \\\n",
    "    .config(\"spark.sql.catalog.spark_catalog\", \"org.apache.spark.sql.delta.catalog.DeltaCatalog\") \\\n",
    "    .config(\"spark.mongodb.read.connection.uri\", \"mongodb://localhost:27017\") \\\n",
    "    .config(\"spark.mongodb.write.connection.uri\", \"mongodb://localhost:27017\")\n",
    "\n",
    "spark = configure_spark_with_delta_pip(builder).getOrCreate()"
   ]
  },
  {
   "cell_type": "code",
   "execution_count": 8,
   "id": "e39d2084",
   "metadata": {},
   "outputs": [
    {
     "name": "stderr",
     "output_type": "stream",
     "text": [
      "                                                                                \r"
     ]
    }
   ],
   "source": [
    "df = spark.read \\\n",
    "    .format(\"mongo\") \\\n",
    "    .option(\"uri\", \"mongodb://localhost:27017/tfm.tf-idf\") \\\n",
    "    .load()\n"
   ]
  },
  {
   "cell_type": "markdown",
   "id": "423179d0",
   "metadata": {},
   "source": [
    "# JOIN - Positive Emotions"
   ]
  },
  {
   "cell_type": "code",
   "execution_count": 9,
   "id": "70c2ee5c",
   "metadata": {},
   "outputs": [],
   "source": [
    "good_emotions = [\n",
    "    \"happy\",\n",
    "    \"joy\",\n",
    "    \"love\",\n",
    "    \"excited\",\n",
    "    \"relieved\",\n",
    "    \"grateful\",\n",
    "    \"content\",\n",
    "    \"proud\",\n",
    "    \"hopeful\",\n",
    "    \"amused\"\n",
    "]\n",
    "\n",
    "bad_emotions = [\n",
    "    \"sad\",\n",
    "    \"angry\",\n",
    "    \"fear\",\n",
    "    \"disgust\",\n",
    "    \"anxious\",\n",
    "    \"jealous\",\n",
    "    \"frustrated\",\n",
    "    \"guilty\",\n",
    "    \"ashamed\",\n",
    "    \"lonely\"\n",
    "]"
   ]
  },
  {
   "cell_type": "code",
   "execution_count": null,
   "id": "38c58db1",
   "metadata": {},
   "outputs": [
    {
     "name": "stdout",
     "output_type": "stream",
     "text": [
      "['Emotion', '_id', 'filtered_words', 'raw_features_array', 'stemmed_words', 'text', 'tfidf_features_array', 'words']\n"
     ]
    },
    {
     "name": "stderr",
     "output_type": "stream",
     "text": [
      "                                                                                \r"
     ]
    },
    {
     "name": "stdout",
     "output_type": "stream",
     "text": [
      "+-------+--------------------+--------------------+--------------------+--------------------+--------------------+--------------------+--------------------+\n",
      "|Emotion|                 _id|      filtered_words|  raw_features_array|       stemmed_words|                text|tfidf_features_array|               words|\n",
      "+-------+--------------------+--------------------+--------------------+--------------------+--------------------+--------------------+--------------------+\n",
      "|   love|{685ea75d0c4b1155...|[think, uniform, ...|[1.0, 0.0, 0.0, 0...|[think, uniform, ...|i think his unifo...|[0.02426812797784...|[i, think, his, u...|\n",
      "|   love|{685ea7590c4b1155...|[feel, like, im, ...|[1.0, 1.0, 1.0, 0...|[feel, like, im, ...|i feel like im ba...|[0.02426812797784...|[i, feel, like, i...|\n",
      "|   love|{685ec32c0a3cc53c...|[feel, jealous, b...|[1.0, 0.0, 0.0, 0...|[feel, jealous, b...|i feel jealous be...|[0.02426812797784...|[i, feel, jealous...|\n",
      "|   love|{685ec3360a3cc53c...|[feel, passionate...|[1.0, 0.0, 0.0, 0...|[feel, passion, c...|i feel very passi...|[0.02426812797784...|[i, feel, very, p...|\n",
      "|   love|{685ec32c0a3cc53c...|[discuss, even, f...|[1.0, 0.0, 0.0, 0...|[discuss, even, f...|i don t discuss e...|[0.02426812797784...|[i, don, t, discu...|\n",
      "+-------+--------------------+--------------------+--------------------+--------------------+--------------------+--------------------+--------------------+\n",
      "only showing top 5 rows\n",
      "\n"
     ]
    }
   ],
   "source": [
    "print(df.columns)\n",
    "df_positive = df.filter(df.emotion.isin(good_emotions)) \\\n",
    "    .dropDuplicates()\n",
    "df_positive.show(5)\n"
   ]
  },
  {
   "cell_type": "code",
   "execution_count": null,
   "id": "0f348b68",
   "metadata": {},
   "outputs": [
    {
     "name": "stderr",
     "output_type": "stream",
     "text": [
      "                                                                                \r"
     ]
    }
   ],
   "source": [
    "df_positive.select(\n",
    "    \"text\", \"emotion\", \"words\", \"filtered_words\", \"stemmed_words\",\n",
    "    \"raw_features_array\", \"tfidf_features_array\"\n",
    ").write \\\n",
    "    .format(\"mongo\") \\\n",
    "    .option(\"uri\", \"mongodb://localhost:27017/tfm_explotation_zone.join_positive_emotions\") \\\n",
    "    .mode(\"append\") \\\n",
    "    .save()"
   ]
  }
 ],
 "metadata": {
  "kernelspec": {
   "display_name": "spark_py3.9",
   "language": "python",
   "name": "python3"
  },
  "language_info": {
   "codemirror_mode": {
    "name": "ipython",
    "version": 3
   },
   "file_extension": ".py",
   "mimetype": "text/x-python",
   "name": "python",
   "nbconvert_exporter": "python",
   "pygments_lexer": "ipython3",
   "version": "3.9.23"
  }
 },
 "nbformat": 4,
 "nbformat_minor": 5
}
