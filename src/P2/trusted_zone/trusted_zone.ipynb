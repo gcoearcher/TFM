{
 "cells": [
  {
   "cell_type": "code",
   "execution_count": 1,
   "id": "59b70dcb",
   "metadata": {},
   "outputs": [],
   "source": [
    "from pyspark.sql import SparkSession, functions as F\n",
    "from delta import configure_spark_with_delta_pip\n",
    "from pyspark.sql.functions import col, trim, lower, regexp_replace\n",
    "import os"
   ]
  },
  {
   "cell_type": "code",
   "execution_count": 2,
   "id": "c8a9bf6b",
   "metadata": {},
   "outputs": [],
   "source": [
    "mongo_connector_jar = \"/home/provira/Documents/TFM/TFM/src/P2/Explotation Zone/jars/mongo-spark-connector_2.12-3.0.1.jar\"\n",
    "mongo_driver_jar = \"/home/provira/Documents/TFM/TFM/src/P2/Explotation Zone/jars/mongo-java-driver-3.12.10.jar\""
   ]
  },
  {
   "cell_type": "code",
   "execution_count": null,
   "id": "224a21c5",
   "metadata": {},
   "outputs": [
    {
     "name": "stderr",
     "output_type": "stream",
     "text": [
      "25/06/27 16:56:21 WARN Utils: Your hostname, provira-ERAZER-P6705-MD61203 resolves to a loopback address: 127.0.1.1; using 192.168.1.55 instead (on interface wlo1)\n",
      "25/06/27 16:56:21 WARN Utils: Set SPARK_LOCAL_IP if you need to bind to another address\n",
      "WARNING: An illegal reflective access operation has occurred\n",
      "WARNING: Illegal reflective access by org.apache.spark.unsafe.Platform (file:/home/provira/anaconda3/envs/spark_py3.9/lib/python3.9/site-packages/pyspark/jars/spark-unsafe_2.12-3.1.3.jar) to constructor java.nio.DirectByteBuffer(long,int)\n",
      "WARNING: Please consider reporting this to the maintainers of org.apache.spark.unsafe.Platform\n",
      "WARNING: Use --illegal-access=warn to enable warnings of further illegal reflective access operations\n",
      "WARNING: All illegal access operations will be denied in a future release\n"
     ]
    },
    {
     "name": "stdout",
     "output_type": "stream",
     "text": [
      ":: loading settings :: url = jar:file:/home/provira/anaconda3/envs/spark_py3.9/lib/python3.9/site-packages/pyspark/jars/ivy-2.4.0.jar!/org/apache/ivy/core/settings/ivysettings.xml\n"
     ]
    },
    {
     "name": "stderr",
     "output_type": "stream",
     "text": [
      "Ivy Default Cache set to: /home/provira/.ivy2/cache\n",
      "The jars for the packages stored in: /home/provira/.ivy2/jars\n",
      "io.delta#delta-core_2.12 added as a dependency\n",
      ":: resolving dependencies :: org.apache.spark#spark-submit-parent-d9c7aa2b-7a07-4d24-9df5-3144cf72c639;1.0\n",
      "\tconfs: [default]\n",
      "\tfound io.delta#delta-core_2.12;1.0.0 in central\n",
      "\tfound org.antlr#antlr4;4.7 in central\n",
      "\tfound org.antlr#antlr4-runtime;4.7 in central\n",
      "\tfound org.antlr#antlr-runtime;3.5.2 in central\n",
      "\tfound org.antlr#ST4;4.0.8 in central\n",
      "\tfound org.abego.treelayout#org.abego.treelayout.core;1.0.3 in central\n",
      "\tfound org.glassfish#javax.json;1.0.4 in central\n",
      "\tfound com.ibm.icu#icu4j;58.2 in central\n",
      ":: resolution report :: resolve 738ms :: artifacts dl 28ms\n",
      "\t:: modules in use:\n",
      "\tcom.ibm.icu#icu4j;58.2 from central in [default]\n",
      "\tio.delta#delta-core_2.12;1.0.0 from central in [default]\n",
      "\torg.abego.treelayout#org.abego.treelayout.core;1.0.3 from central in [default]\n",
      "\torg.antlr#ST4;4.0.8 from central in [default]\n",
      "\torg.antlr#antlr-runtime;3.5.2 from central in [default]\n",
      "\torg.antlr#antlr4;4.7 from central in [default]\n",
      "\torg.antlr#antlr4-runtime;4.7 from central in [default]\n",
      "\torg.glassfish#javax.json;1.0.4 from central in [default]\n",
      "\t---------------------------------------------------------------------\n",
      "\t|                  |            modules            ||   artifacts   |\n",
      "\t|       conf       | number| search|dwnlded|evicted|| number|dwnlded|\n",
      "\t---------------------------------------------------------------------\n",
      "\t|      default     |   8   |   0   |   0   |   0   ||   8   |   0   |\n",
      "\t---------------------------------------------------------------------\n",
      ":: retrieving :: org.apache.spark#spark-submit-parent-d9c7aa2b-7a07-4d24-9df5-3144cf72c639\n",
      "\tconfs: [default]\n",
      "\t0 artifacts copied, 8 already retrieved (0kB/25ms)\n",
      "25/06/27 16:56:24 WARN NativeCodeLoader: Unable to load native-hadoop library for your platform... using builtin-java classes where applicable\n",
      "Using Spark's default log4j profile: org/apache/spark/log4j-defaults.properties\n",
      "Setting default log level to \"WARN\".\n",
      "To adjust logging level use sc.setLogLevel(newLevel). For SparkR, use setLogLevel(newLevel).\n",
      "25/06/27 16:56:27 WARN Utils: Service 'SparkUI' could not bind on port 4040. Attempting port 4041.\n"
     ]
    }
   ],
   "source": [
    "builder = SparkSession.builder \\\n",
    "    .appName(\"Trusted_Zone\") \\\n",
    "    .config(\"spark.jars\", f\"{mongo_connector_jar},{mongo_driver_jar}\") \\\n",
    "    .config(\"spark.sql.extensions\", \"io.delta.sql.DeltaSparkSessionExtension\") \\\n",
    "    .config(\"spark.sql.catalog.spark_catalog\", \"org.apache.spark.sql.delta.catalog.DeltaCatalog\") \\\n",
    "    .config(\"spark.mongodb.read.connection.uri\", \"mongodb://localhost:27017\") \\\n",
    "    .config(\"spark.mongodb.write.connection.uri\", \"mongodb://localhost:27017\")\n",
    "\n",
    "spark = configure_spark_with_delta_pip(builder).getOrCreate()"
   ]
  },
  {
   "cell_type": "code",
   "execution_count": 9,
   "id": "e39d2084",
   "metadata": {},
   "outputs": [
    {
     "name": "stderr",
     "output_type": "stream",
     "text": [
      "                                                                                \r"
     ]
    }
   ],
   "source": [
    "df = spark.read \\\n",
    "    .format(\"mongo\") \\\n",
    "    .option(\"uri\", \"mongodb://localhost:27017/tfm.tf-idf\") \\\n",
    "    .load()\n"
   ]
  },
  {
   "cell_type": "markdown",
   "id": "423179d0",
   "metadata": {},
   "source": [
    "# JOIN - Positive Emotions"
   ]
  },
  {
   "cell_type": "code",
   "execution_count": 10,
   "id": "70c2ee5c",
   "metadata": {},
   "outputs": [],
   "source": [
    "good_emotions = [\n",
    "    \"happy\",\n",
    "    \"joy\",\n",
    "    \"love\",\n",
    "    \"excited\",\n",
    "    \"relieved\",\n",
    "    \"grateful\",\n",
    "    \"content\",\n",
    "    \"proud\",\n",
    "    \"hopeful\",\n",
    "    \"amused\"\n",
    "]\n",
    "\n",
    "bad_emotions = [\n",
    "    \"sad\",\n",
    "    \"angry\",\n",
    "    \"fear\",\n",
    "    \"disgust\",\n",
    "    \"anxious\",\n",
    "    \"jealous\",\n",
    "    \"frustrated\",\n",
    "    \"guilty\",\n",
    "    \"ashamed\",\n",
    "    \"lonely\"\n",
    "]"
   ]
  },
  {
   "cell_type": "code",
   "execution_count": 13,
   "id": "38c58db1",
   "metadata": {},
   "outputs": [
    {
     "name": "stdout",
     "output_type": "stream",
     "text": [
      "['Emotion', '_id', 'filtered_words', 'raw_features_array', 'stemmed_words', 'text', 'tfidf_features_array', 'words']\n",
      "+-------+--------------------+--------------------+--------------------+--------------------+--------------------+--------------------+--------------------+\n",
      "|Emotion|                 _id|      filtered_words|  raw_features_array|       stemmed_words|                text|tfidf_features_array|               words|\n",
      "+-------+--------------------+--------------------+--------------------+--------------------+--------------------+--------------------+--------------------+\n",
      "|   love|{685ea7590c4b1155...|[feel, jealous, b...|[1.0, 0.0, 0.0, 0...|[feel, jealous, b...|i feel jealous be...|[0.02426812797784...|[i, feel, jealous...|\n",
      "|   love|{685ea7590c4b1155...|[feel, like, take...|[1.0, 1.0, 0.0, 0...|[feel, like, take...|i feel like she h...|[0.02426812797784...|[i, feel, like, s...|\n",
      "|   love|{685ea7590c4b1155...|[feel, like, im, ...|[1.0, 1.0, 1.0, 0...|[feel, like, im, ...|i feel like im ba...|[0.02426812797784...|[i, feel, like, i...|\n",
      "|   love|{685ea7590c4b1155...|[feeling, festive...|[1.0, 0.0, 0.0, 0...|[feel, festiv, ri...|i am feeling so f...|[0.02426812797784...|[i, am, feeling, ...|\n",
      "|   love|{685ea7590c4b1155...|[discuss, even, f...|[1.0, 0.0, 0.0, 0...|[discuss, even, f...|i don t discuss e...|[0.02426812797784...|[i, don, t, discu...|\n",
      "+-------+--------------------+--------------------+--------------------+--------------------+--------------------+--------------------+--------------------+\n",
      "only showing top 5 rows\n",
      "\n"
     ]
    },
    {
     "name": "stderr",
     "output_type": "stream",
     "text": [
      "                                                                                \r"
     ]
    }
   ],
   "source": [
    "print(df.columns)\n",
    "df_positive = df.filter(df.Emotion.isin(good_emotions))\n",
    "df_positive.show(5)\n"
   ]
  },
  {
   "cell_type": "code",
   "execution_count": 16,
   "id": "0f348b68",
   "metadata": {},
   "outputs": [
    {
     "name": "stderr",
     "output_type": "stream",
     "text": [
      "                                                                                \r"
     ]
    }
   ],
   "source": [
    "df_positive.select(\n",
    "    \"text\", \"Emotion\", \"words\", \"filtered_words\", \"stemmed_words\",\n",
    "    \"raw_features_array\", \"tfidf_features_array\"\n",
    ").write \\\n",
    "    .format(\"mongo\") \\\n",
    "    .option(\"uri\", \"mongodb://localhost:27017/tfm_trsuted_zone.join_positive_emotions\") \\\n",
    "    .mode(\"append\") \\\n",
    "    .save()"
   ]
  }
 ],
 "metadata": {
  "kernelspec": {
   "display_name": "spark_py3.9",
   "language": "python",
   "name": "python3"
  },
  "language_info": {
   "codemirror_mode": {
    "name": "ipython",
    "version": 3
   },
   "file_extension": ".py",
   "mimetype": "text/x-python",
   "name": "python",
   "nbconvert_exporter": "python",
   "pygments_lexer": "ipython3",
   "version": "3.9.23"
  }
 },
 "nbformat": 4,
 "nbformat_minor": 5
}
