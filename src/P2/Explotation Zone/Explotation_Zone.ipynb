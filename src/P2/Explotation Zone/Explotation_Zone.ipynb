{
 "cells": [
  {
   "cell_type": "code",
   "execution_count": 1,
   "id": "143b6a56",
   "metadata": {},
   "outputs": [],
   "source": [
    "from pyspark.sql import SparkSession, functions as F\n",
    "from delta import configure_spark_with_delta_pip\n",
    "from pyspark.sql.functions import col, trim, lower, regexp_replace\n",
    "import os"
   ]
  },
  {
   "cell_type": "code",
   "execution_count": 2,
   "id": "79bd2f84",
   "metadata": {},
   "outputs": [],
   "source": [
    "path_landing = \"../../../delta_lake/csv\"\n",
    "path_creation = \"/delta_lake/creation\"\n",
    "path_exploitation = \"/delta_lake/exploitation\""
   ]
  },
  {
   "cell_type": "code",
   "execution_count": 3,
   "id": "2c19df09",
   "metadata": {},
   "outputs": [],
   "source": [
    "mongo_connector_jar = \"/home/provira/Documents/TFM/TFM/src/P2/Explotation Zone/jars/mongo-spark-connector_2.12-3.0.1.jar\"\n",
    "mongo_driver_jar = \"/home/provira/Documents/TFM/TFM/src/P2/Explotation Zone/jars/mongo-java-driver-3.12.10.jar\""
   ]
  },
  {
   "cell_type": "markdown",
   "id": "42649ad0",
   "metadata": {},
   "source": []
  },
  {
   "cell_type": "code",
   "execution_count": 4,
   "id": "6f2f5325",
   "metadata": {},
   "outputs": [
    {
     "name": "stderr",
     "output_type": "stream",
     "text": [
      "25/06/27 16:12:29 WARN Utils: Your hostname, provira-ERAZER-P6705-MD61203 resolves to a loopback address: 127.0.1.1; using 192.168.1.55 instead (on interface wlo1)\n",
      "25/06/27 16:12:29 WARN Utils: Set SPARK_LOCAL_IP if you need to bind to another address\n",
      "WARNING: An illegal reflective access operation has occurred\n",
      "WARNING: Illegal reflective access by org.apache.spark.unsafe.Platform (file:/home/provira/anaconda3/envs/spark_py3.9/lib/python3.9/site-packages/pyspark/jars/spark-unsafe_2.12-3.1.3.jar) to constructor java.nio.DirectByteBuffer(long,int)\n",
      "WARNING: Please consider reporting this to the maintainers of org.apache.spark.unsafe.Platform\n",
      "WARNING: Use --illegal-access=warn to enable warnings of further illegal reflective access operations\n",
      "WARNING: All illegal access operations will be denied in a future release\n"
     ]
    },
    {
     "name": "stdout",
     "output_type": "stream",
     "text": [
      ":: loading settings :: url = jar:file:/home/provira/anaconda3/envs/spark_py3.9/lib/python3.9/site-packages/pyspark/jars/ivy-2.4.0.jar!/org/apache/ivy/core/settings/ivysettings.xml\n"
     ]
    },
    {
     "name": "stderr",
     "output_type": "stream",
     "text": [
      "Ivy Default Cache set to: /home/provira/.ivy2/cache\n",
      "The jars for the packages stored in: /home/provira/.ivy2/jars\n",
      "io.delta#delta-core_2.12 added as a dependency\n",
      ":: resolving dependencies :: org.apache.spark#spark-submit-parent-2ca34fd0-d1c0-4118-9b07-4cb373702694;1.0\n",
      "\tconfs: [default]\n",
      "\tfound io.delta#delta-core_2.12;1.0.0 in central\n",
      "\tfound org.antlr#antlr4;4.7 in central\n",
      "\tfound org.antlr#antlr4-runtime;4.7 in central\n",
      "\tfound org.antlr#antlr-runtime;3.5.2 in central\n",
      "\tfound org.antlr#ST4;4.0.8 in central\n",
      "\tfound org.abego.treelayout#org.abego.treelayout.core;1.0.3 in central\n",
      "\tfound org.glassfish#javax.json;1.0.4 in central\n",
      "\tfound com.ibm.icu#icu4j;58.2 in central\n",
      ":: resolution report :: resolve 725ms :: artifacts dl 28ms\n",
      "\t:: modules in use:\n",
      "\tcom.ibm.icu#icu4j;58.2 from central in [default]\n",
      "\tio.delta#delta-core_2.12;1.0.0 from central in [default]\n",
      "\torg.abego.treelayout#org.abego.treelayout.core;1.0.3 from central in [default]\n",
      "\torg.antlr#ST4;4.0.8 from central in [default]\n",
      "\torg.antlr#antlr-runtime;3.5.2 from central in [default]\n",
      "\torg.antlr#antlr4;4.7 from central in [default]\n",
      "\torg.antlr#antlr4-runtime;4.7 from central in [default]\n",
      "\torg.glassfish#javax.json;1.0.4 from central in [default]\n",
      "\t---------------------------------------------------------------------\n",
      "\t|                  |            modules            ||   artifacts   |\n",
      "\t|       conf       | number| search|dwnlded|evicted|| number|dwnlded|\n",
      "\t---------------------------------------------------------------------\n",
      "\t|      default     |   8   |   0   |   0   |   0   ||   8   |   0   |\n",
      "\t---------------------------------------------------------------------\n",
      ":: retrieving :: org.apache.spark#spark-submit-parent-2ca34fd0-d1c0-4118-9b07-4cb373702694\n",
      "\tconfs: [default]\n",
      "\t0 artifacts copied, 8 already retrieved (0kB/25ms)\n",
      "25/06/27 16:12:32 WARN NativeCodeLoader: Unable to load native-hadoop library for your platform... using builtin-java classes where applicable\n",
      "Using Spark's default log4j profile: org/apache/spark/log4j-defaults.properties\n",
      "Setting default log level to \"WARN\".\n",
      "To adjust logging level use sc.setLogLevel(newLevel). For SparkR, use setLogLevel(newLevel).\n"
     ]
    }
   ],
   "source": [
    "builder = SparkSession.builder \\\n",
    "    .appName(\"MongoDB-Delta Integration\") \\\n",
    "    .config(\"spark.jars\", f\"{mongo_connector_jar},{mongo_driver_jar}\") \\\n",
    "    .config(\"spark.sql.extensions\", \"io.delta.sql.DeltaSparkSessionExtension\") \\\n",
    "    .config(\"spark.sql.catalog.spark_catalog\", \"org.apache.spark.sql.delta.catalog.DeltaCatalog\") \\\n",
    "    .config(\"spark.mongodb.read.connection.uri\", \"mongodb://localhost:27017\") \\\n",
    "    .config(\"spark.mongodb.write.connection.uri\", \"mongodb://localhost:27017\")\n",
    "\n",
    "spark = configure_spark_with_delta_pip(builder).getOrCreate()"
   ]
  },
  {
   "cell_type": "code",
   "execution_count": 5,
   "id": "33b7377f",
   "metadata": {},
   "outputs": [
    {
     "data": {
      "text/plain": [
       "JavaObject id=o53"
      ]
     },
     "execution_count": 5,
     "metadata": {},
     "output_type": "execute_result"
    }
   ],
   "source": [
    "spark.sparkContext._jsc.sc().listJars()\n"
   ]
  },
  {
   "cell_type": "code",
   "execution_count": 6,
   "id": "26e44e1c",
   "metadata": {},
   "outputs": [
    {
     "name": "stderr",
     "output_type": "stream",
     "text": [
      "                                                                                \r"
     ]
    }
   ],
   "source": [
    "df_csv = spark.read.format(\"delta\").load(f\"{path_landing}\")"
   ]
  },
  {
   "cell_type": "markdown",
   "id": "ae89ea2c",
   "metadata": {},
   "source": [
    "# Preprocessing"
   ]
  },
  {
   "cell_type": "code",
   "execution_count": 7,
   "id": "a9813480",
   "metadata": {},
   "outputs": [
    {
     "data": {
      "text/plain": [
       "['_c0', 'text', 'Emotion']"
      ]
     },
     "execution_count": 7,
     "metadata": {},
     "output_type": "execute_result"
    }
   ],
   "source": [
    "df_csv.columns"
   ]
  },
  {
   "cell_type": "code",
   "execution_count": 8,
   "id": "4510db58",
   "metadata": {},
   "outputs": [
    {
     "name": "stderr",
     "output_type": "stream",
     "text": [
      "                                                                                \r"
     ]
    },
    {
     "name": "stdout",
     "output_type": "stream",
     "text": [
      "+--------------------+\n",
      "|             Emotion|\n",
      "+--------------------+\n",
      "|omg!!! loving thi...|\n",
      "|why the nazis stu...|\n",
      "| @user as forecas...|\n",
      "|so simple, but so...|\n",
      "|   #friday  xoxos...|\n",
      "|#tgif   #ff to my...|\n",
      "|@user don't forge...|\n",
      "|loved that season...|\n",
      "|@user pay of #ric...|\n",
      "|#gameshow   bull ...|\n",
      "|lack of access sp...|\n",
      "|family 5k @user #...|\n",
      "|@user fg introduc...|\n",
      "|@user the library...|\n",
      "|men's footjoy bla...|\n",
      "| @user a great #m...|\n",
      "|happy friday.   #...|\n",
      "|badminton bareng ...|\n",
      "|our unknown #futu...|\n",
      "|my #hea goes out ...|\n",
      "+--------------------+\n",
      "only showing top 20 rows\n",
      "\n"
     ]
    },
    {
     "name": "stderr",
     "output_type": "stream",
     "text": [
      "                                                                                \r"
     ]
    },
    {
     "name": "stdout",
     "output_type": "stream",
     "text": [
      "Number of distinct Emotion labels: 78800 / 1100992\n"
     ]
    }
   ],
   "source": [
    "distinct_emotions = df_csv.select(\"Emotion\").distinct()\n",
    "distinct_emotions.show()\n",
    "\n",
    "count_distinct = df_csv.select(\"Emotion\").distinct().count()\n",
    "total = df_csv.select(\"Emotion\").count()\n",
    "print(f\"Number of distinct Emotion labels: {count_distinct} / {total}\")\n"
   ]
  },
  {
   "cell_type": "code",
   "execution_count": 9,
   "id": "3affab31",
   "metadata": {},
   "outputs": [
    {
     "name": "stderr",
     "output_type": "stream",
     "text": [
      "[Stage 19:=============================================>       (173 + 13) / 200]\r"
     ]
    },
    {
     "name": "stdout",
     "output_type": "stream",
     "text": [
      "+--------------------+------+\n",
      "|             Emotion| count|\n",
      "+--------------------+------+\n",
      "|             neutral|674538|\n",
      "|                love| 39553|\n",
      "|           happiness| 27175|\n",
      "|                null| 18177|\n",
      "|             sadness| 17491|\n",
      "|              relief| 16729|\n",
      "|                hate| 15267|\n",
      "|               anger| 12356|\n",
      "|                 fun| 10075|\n",
      "|          enthusiasm|  9304|\n",
      "|            surprise|  6954|\n",
      "|               empty|  5542|\n",
      "|               worry|  4475|\n",
      "|           [deleted]|  3861|\n",
      "|#model   i love u...|   319|\n",
      "|             boredom|   126|\n",
      "|              #NAME?|   123|\n",
      "|        CakeDay--Bot|    96|\n",
      "|i finally found a...|    82|\n",
      "|aww yeah it's all...|    75|\n",
      "+--------------------+------+\n",
      "\n"
     ]
    },
    {
     "name": "stderr",
     "output_type": "stream",
     "text": [
      "                                                                                \r"
     ]
    }
   ],
   "source": [
    "# Get count per Emotion\n",
    "emotion_counts = df_csv.groupBy(\"Emotion\").count()\n",
    "\n",
    "# Order by count descending and take top 10\n",
    "top_10_emotions = emotion_counts.orderBy(col(\"count\").desc()).limit(20)\n",
    "\n",
    "top_10_emotions.show()"
   ]
  },
  {
   "cell_type": "code",
   "execution_count": 10,
   "id": "b117aa87",
   "metadata": {},
   "outputs": [
    {
     "name": "stderr",
     "output_type": "stream",
     "text": [
      "[Stage 24:>                                                         (0 + 1) / 1]\r"
     ]
    },
    {
     "name": "stdout",
     "output_type": "stream",
     "text": [
      "+---------------------------------------------------------------------------------------------------------------------------------------------------------------------------------------------------------------+--------------------------------------------------------------------------------------------------------------------------------------------------------+--------------------------------------------------------------------------------------------------------------------------------------+\n",
      "|text                                                                                                                                                                                                           |filtered_words                                                                                                                                          |stemmed_words                                                                                                                         |\n",
      "+---------------------------------------------------------------------------------------------------------------------------------------------------------------------------------------------------------------+--------------------------------------------------------------------------------------------------------------------------------------------------------+--------------------------------------------------------------------------------------------------------------------------------------+\n",
      "|i seriously hate one subject to death but now i feel reluctant to drop it                                                                                                                                      |[seriously, hate, one, subject, death, feel, reluctant, drop]                                                                                           |[serious, hate, one, subject, death, feel, reluct, drop]                                                                              |\n",
      "|im so full of life i feel appalled                                                                                                                                                                             |[im, full, life, feel, appalled]                                                                                                                        |[im, full, life, feel, appal]                                                                                                         |\n",
      "|i sit here to write i start to dig out my feelings and i think that i am afraid to accept the possibility that he might not make it                                                                            |[sit, write, start, dig, feelings, think, afraid, accept, possibility, might, make]                                                                     |[sit, write, start, dig, feel, think, afraid, accept, possibl, might, make]                                                           |\n",
      "|ive been really angry with r and i feel like an idiot for trusting him in the first place                                                                                                                      |[ive, really, angry, r, feel, like, idiot, trusting, first, place]                                                                                      |[ive, realli, angri, r, feel, like, idiot, trust, first, place]                                                                       |\n",
      "|i feel suspicious if there is no one outside like the rapture has happened or something                                                                                                                        |[feel, suspicious, one, outside, like, rapture, happened, something]                                                                                    |[feel, suspici, one, outsid, like, raptur, happen, someth]                                                                            |\n",
      "|i feel jealous becasue i wanted that kind of love the true connection between two souls and i wanted that                                                                                                      |[feel, jealous, becasue, wanted, kind, love, true, connection, two, souls, wanted]                                                                      |[feel, jealous, becasu, want, kind, love, true, connect, two, soul, want]                                                             |\n",
      "|when a friend of mine keeps telling me morbid things that happened to his dog                                                                                                                                  |[friend, mine, keeps, telling, morbid, things, happened, dog]                                                                                           |[friend, mine, keep, tell, morbid, thing, happen, dog]                                                                                |\n",
      "|i finally fell asleep feeling angry useless and still full of anxiety                                                                                                                                          |[finally, fell, asleep, feeling, angry, useless, still, full, anxiety]                                                                                  |[final, fell, asleep, feel, angri, useless, still, full, anxieti]                                                                     |\n",
      "|i feel a bit annoyed and antsy in a good way                                                                                                                                                                   |[feel, bit, annoyed, antsy, good, way]                                                                                                                  |[feel, bit, annoy, antsi, good, way]                                                                                                  |\n",
      "|i feel like i ve regained another vital part of my life which is living                                                                                                                                        |[feel, like, regained, another, vital, part, life, living]                                                                                              |[feel, like, regain, anoth, vital, part, life, live]                                                                                  |\n",
      "|i feel a bit like franz liebkind in the producers not many people know it but the fuhrer was a terrific dancer                                                                                                 |[feel, bit, like, franz, liebkind, producers, many, people, know, fuhrer, terrific, dancer]                                                             |[feel, bit, like, franz, liebkind, produc, mani, peopl, know, fuhrer, terrif, dancer]                                                 |\n",
      "|i was feeling at the start didnt want to move much at all was really glad to experience this glimpse into the sort of vibrant energy i will gain through out the year                                          |[feeling, start, didnt, want, move, much, really, glad, experience, glimpse, sort, vibrant, energy, gain, year]                                         |[feel, start, didnt, want, move, much, realli, glad, experi, glimps, sort, vibrant, energi, gain, year]                               |\n",
      "|i was bitten by a dog                                                                                                                                                                                          |[bitten, dog]                                                                                                                                           |[bitten, dog]                                                                                                                         |\n",
      "|i do not always find myself feeling thankful but over the years i ve gathered a few tricks that allow me to feel grateful in the face of moments when the last thing i want to do is say thanks                |[always, find, feeling, thankful, years, gathered, tricks, allow, feel, grateful, face, moments, last, thing, want, say, thanks]                        |[alway, find, feel, thank, year, gather, trick, allow, feel, grate, face, moment, last, thing, want, say, thank]                      |\n",
      "|i just try not to talk to anyone when i feel irritable like that                                                                                                                                               |[try, talk, anyone, feel, irritable, like]                                                                                                              |[tri, talk, anyon, feel, irrit, like]                                                                                                 |\n",
      "|i feel like they hated me since then                                                                                                                                                                           |[feel, like, hated, since]                                                                                                                              |[feel, like, hate, sinc]                                                                                                              |\n",
      "|i dont know who wrote the following little note but this is how i feel today if u r offended by the following posting then you obviously have not lived long enough to be compromised on how you act or believe|[dont, know, wrote, following, little, note, feel, today, u, r, offended, following, posting, obviously, lived, long, enough, compromised, act, believe]|[dont, know, wrote, follow, littl, note, feel, today, u, r, offend, follow, post, obvious, live, long, enough, compromis, act, believ]|\n",
      "|i feel offended i choose to tell you guys how i feel because i treated you guys as friends and would want to put a stop to all these nonsense                                                                  |[feel, offended, choose, tell, guys, feel, treated, guys, friends, would, want, put, stop, nonsense]                                                    |[feel, offend, choos, tell, guy, feel, treat, guy, friend, would, want, put, stop, nonsens]                                           |\n",
      "|i remember feeling as if i didn t belong and that i wasn t smart enough cool enough or even young enough                                                                                                       |[remember, feeling, belong, smart, enough, cool, enough, even, young, enough]                                                                           |[rememb, feel, belong, smart, enough, cool, enough, even, young, enough]                                                              |\n",
      "|i feel like i have to redeem myself even though i think they realized why i was distraught and were ok with it                                                                                                 |[feel, like, redeem, even, though, think, realized, distraught, ok]                                                                                     |[feel, like, redeem, even, though, think, realiz, distraught, ok]                                                                     |\n",
      "+---------------------------------------------------------------------------------------------------------------------------------------------------------------------------------------------------------------+--------------------------------------------------------------------------------------------------------------------------------------------------------+--------------------------------------------------------------------------------------------------------------------------------------+\n",
      "only showing top 20 rows\n",
      "\n"
     ]
    },
    {
     "name": "stderr",
     "output_type": "stream",
     "text": [
      "                                                                                \r"
     ]
    }
   ],
   "source": [
    "from pyspark.ml.feature import Tokenizer, StopWordsRemover\n",
    "from nltk.corpus import stopwords\n",
    "from nltk.tokenize import word_tokenize\n",
    "from nltk.stem.snowball import SnowballStemmer\n",
    "\n",
    "#nltk.download('punkt')\n",
    "#nltk.download('stopwords')\n",
    "\n",
    "stop_words = set(stopwords.words('english'))\n",
    "\n",
    "# Tokenizar\n",
    "tokenizer = Tokenizer(inputCol=\"text\", outputCol=\"words\")\n",
    "df_words = tokenizer.transform(df_csv.limit(1000))\n",
    "\n",
    "# Eliminar stopwords (solo en inglés por defecto, pero puedes pasar las tuyas)\n",
    "remover = StopWordsRemover(inputCol=\"words\", outputCol=\"filtered_words\")\n",
    "remover.setStopWords(list(stop_words))\n",
    "df_filtered = remover.transform(df_words)\n",
    "\n",
    "#Stemming\n",
    "stemmer = SnowballStemmer(\"english\")\n",
    "\n",
    "from pyspark.sql.functions import udf\n",
    "from pyspark.sql.types import ArrayType, StringType\n",
    "\n",
    "def stem_tokens(tokens):\n",
    "    return [stemmer.stem(token) for token in tokens]\n",
    "\n",
    "stem_udf = udf(stem_tokens, ArrayType(StringType()))\n",
    "\n",
    "df_stemmed = df_filtered.withColumn(\"stemmed_words\", stem_udf(\"filtered_words\"))\n",
    "\n",
    "df_stemmed.select(\"text\", \"filtered_words\", \"stemmed_words\").show(truncate=False)\n"
   ]
  },
  {
   "cell_type": "code",
   "execution_count": 11,
   "id": "2e21e7a0",
   "metadata": {},
   "outputs": [
    {
     "name": "stderr",
     "output_type": "stream",
     "text": [
      "                                                                                \r"
     ]
    },
    {
     "name": "stdout",
     "output_type": "stream",
     "text": [
      "+--------------------------------------------------------------------------------------------------------------------------------------+----------------------------------------------------------------------------------------------------------------------------------------------------------+-----------------------------------------------------------------------------------------------------------------------------------------------------------------------------------------------------------------------------------------------------------------------------------------------------------------------------------------------------------------------------------------------------------------------------------+\n",
      "|stemmed_words                                                                                                                         |raw_features                                                                                                                                              |tfidf_features                                                                                                                                                                                                                                                                                                                                                                                                                     |\n",
      "+--------------------------------------------------------------------------------------------------------------------------------------+----------------------------------------------------------------------------------------------------------------------------------------------------------+-----------------------------------------------------------------------------------------------------------------------------------------------------------------------------------------------------------------------------------------------------------------------------------------------------------------------------------------------------------------------------------------------------------------------------------+\n",
      "|[serious, hate, one, subject, death, feel, reluct, drop]                                                                              |(2383,[0,23,47,172,395,400,538,560],[1.0,1.0,1.0,1.0,1.0,1.0,1.0,1.0])                                                                                    |(2383,[0,23,47,172,395,400,538,560],[0.024268127272437913,3.3823942546990593,3.8642323415917974,4.6061696863211745,5.116995310087166,5.116995310087166,5.52246041819533,5.52246041819533])                                                                                                                                                                                                                                         |\n",
      "|[im, full, life, feel, appal]                                                                                                         |(2383,[0,2,31,337,936],[1.0,1.0,1.0,1.0,1.0])                                                                                                             |(2383,[0,2,31,337,936],[0.024268127272437913,1.8981194852189647,3.6506582412937387,4.962844630259907,5.810142490647111])                                                                                                                                                                                                                                                                                                           |\n",
      "|[sit, write, start, dig, feel, think, afraid, accept, possibl, might, make]                                                           |(2383,[0,6,14,24,53,82,95,99,193,244,1460],[1.0,1.0,1.0,1.0,1.0,1.0,1.0,1.0,1.0,1.0,1.0])                                                                 |(2383,[0,6,14,24,53,82,95,99,193,244,1460],[0.024268127272437913,2.883403088580071,3.219875325201284,3.474767574830074,4.13616605707544,4.13616605707544,4.269697449699962,4.269697449699962,4.6061696863211745,4.711530201979001,6.215607598755275])                                                                                                                                                                              |\n",
      "|[ive, realli, angri, r, feel, like, idiot, trust, first, place]                                                                       |(2383,[0,1,9,15,88,112,184,280,557,1345],[1.0,1.0,1.0,1.0,1.0,1.0,1.0,1.0,1.0,1.0])                                                                       |(2383,[0,1,9,15,88,112,184,280,557,1345],[0.024268127272437913,1.8273504143307575,2.9967317738870745,3.2711686195888348,4.269697449699962,4.343805421853684,4.6061696863211745,4.829313237635384,5.52246041819533,6.215607598755275])                                                                                                                                                                                              |\n",
      "|[feel, suspici, one, outsid, like, raptur, happen, someth]                                                                            |(2383,[0,1,17,23,136,205,696,1572],[1.0,1.0,1.0,1.0,1.0,1.0,1.0,1.0])                                                                                     |(2383,[0,1,17,23,136,205,696,1572],[0.024268127272437913,1.8273504143307575,3.297836866670996,3.3823942546990593,4.51085950651685,4.6061696863211745,5.52246041819533,6.215607598755275])                                                                                                                                                                                                                                          |\n",
      "|[feel, jealous, becasu, want, kind, love, true, connect, two, soul, want]                                                             |(2383,[0,4,51,71,137,212,548,799,904,2138],[1.0,2.0,1.0,1.0,1.0,1.0,1.0,1.0,1.0,1.0])                                                                     |(2383,[0,4,51,71,137,212,548,799,904,2138],[0.024268127272437913,5.531240105847376,3.8642323415917974,4.075541435259004,4.51085950651685,4.711530201979001,5.52246041819533,5.810142490647111,5.810142490647111,6.215607598755275])                                                                                                                                                                                                |\n",
      "|[friend, mine, keep, tell, morbid, thing, happen, dog]                                                                                |(2383,[8,28,102,136,207,513,631,1025],[1.0,1.0,1.0,1.0,1.0,1.0,1.0,1.0])                                                                                  |(2383,[8,28,102,136,207,513,631,1025],[2.938462865763099,3.6129179133108917,4.269697449699962,4.51085950651685,4.6061696863211745,5.29931686688112,5.52246041819533,5.810142490647111])                                                                                                                                                                                                                                            |\n",
      "|[final, fell, asleep, feel, angri, useless, still, full, anxieti]                                                                     |(2383,[0,20,112,337,586,705,823,1121,1142],[1.0,1.0,1.0,1.0,1.0,1.0,1.0,1.0,1.0])                                                                         |(2383,[0,20,112,337,586,705,823,1121,1142],[0.024268127272437913,3.2711686195888348,4.343805421853684,4.962844630259907,5.52246041819533,5.52246041819533,5.810142490647111,6.215607598755275,6.215607598755275])                                                                                                                                                                                                                  |\n",
      "|[feel, bit, annoy, antsi, good, way]                                                                                                  |(2383,[0,13,19,32,267,585],[1.0,1.0,1.0,1.0,1.0,1.0])                                                                                                     |(2383,[0,13,19,32,267,585],[0.024268127272437913,3.1710851610318525,3.353406717825807,3.6129179133108917,4.829313237635384,5.52246041819533])                                                                                                                                                                                                                                                                                      |\n",
      "|[feel, like, regain, anoth, vital, part, life, live]                                                                                  |(2383,[0,1,31,69,74,170,414,888],[1.0,1.0,1.0,1.0,1.0,1.0,1.0,1.0])                                                                                       |(2383,[0,1,31,69,74,170,414,888],[0.024268127272437913,1.8273504143307575,3.6506582412937387,4.075541435259004,4.13616605707544,4.51085950651685,5.116995310087166,5.810142490647111])                                                                                                                                                                                                                                             |\n",
      "|[feel, bit, like, franz, liebkind, produc, mani, peopl, know, fuhrer, terrif, dancer]                                                 |(2383,[0,1,10,13,21,147,476,668,1292,1721,2116,2234],[1.0,1.0,1.0,1.0,1.0,1.0,1.0,1.0,1.0,1.0,1.0,1.0])                                                   |(2383,[0,1,10,13,21,147,476,668,1292,1721,2116,2234],[0.024268127272437913,1.8273504143307575,3.016934481204594,3.1710851610318525,3.3252358408591105,4.6061696863211745,5.29931686688112,5.52246041819533,6.215607598755275,6.215607598755275,6.215607598755275,6.215607598755275])                                                                                                                                               |\n",
      "|[feel, start, didnt, want, move, much, realli, glad, experi, glimps, sort, vibrant, energi, gain, year]                               |(2383,[0,4,9,24,27,41,92,105,227,409,492,625,645,1705,2129],[1.0,1.0,1.0,1.0,1.0,1.0,1.0,1.0,1.0,1.0,1.0,1.0,1.0,1.0,1.0])                                |(2383,[0,4,9,24,27,41,92,105,227,409,492,625,645,1705,2129],[0.024268127272437913,2.765620052923688,2.9967317738870745,3.474767574830074,3.5414589493287463,3.7732605633860707,4.200704578213011,4.269697449699962,4.711530201979001,5.116995310087166,5.29931686688112,5.52246041819533,5.52246041819533,6.215607598755275,6.215607598755275])                                                                                    |\n",
      "|[bitten, dog]                                                                                                                         |(2383,[631,1261],[1.0,1.0])                                                                                                                               |(2383,[631,1261],[5.52246041819533,6.215607598755275])                                                                                                                                                                                                                                                                                                                                                                             |\n",
      "|[alway, find, feel, thank, year, gather, trick, allow, feel, grate, face, moment, last, thing, want, say, thank]                      |(2383,[0,4,8,35,40,41,42,70,86,143,162,308,1556,1890,1961],[2.0,1.0,1.0,1.0,1.0,1.0,1.0,1.0,1.0,2.0,1.0,1.0,1.0,1.0,1.0])                                 |(2383,[0,4,8,35,40,41,42,70,86,143,162,308,1556,1890,1961],[0.048536254544875826,2.765620052923688,2.938462865763099,3.68987895444702,3.68987895444702,3.7732605633860707,3.817712325956905,4.075541435259004,4.200704578213011,9.212339372642349,4.51085950651685,4.962844630259907,6.215607598755275,6.215607598755275,6.215607598755275])                                                                                       |\n",
      "|[tri, talk, anyon, feel, irrit, like]                                                                                                 |(2383,[0,1,45,54,101,155],[1.0,1.0,1.0,1.0,1.0,1.0])                                                                                                      |(2383,[0,1,45,54,101,155],[0.024268127272437913,1.8273504143307575,3.817712325956905,3.9130225057612296,4.269697449699962,4.51085950651685])                                                                                                                                                                                                                                                                                       |\n",
      "|[feel, like, hate, sinc]                                                                                                              |(2383,[0,1,47,124],[1.0,1.0,1.0,1.0])                                                                                                                     |(2383,[0,1,47,124],[0.024268127272437913,1.8273504143307575,3.8642323415917974,4.4238481295272205])                                                                                                                                                                                                                                                                                                                                |\n",
      "|[dont, know, wrote, follow, littl, note, feel, today, u, r, offend, follow, post, obvious, live, long, enough, compromis, act, believ]|(2383,[0,10,11,22,36,52,69,91,108,221,248,291,488,511,514,557,621,924,2140],[1.0,1.0,1.0,1.0,1.0,1.0,1.0,1.0,1.0,1.0,1.0,1.0,1.0,1.0,2.0,1.0,1.0,1.0,1.0])|(2383,[0,10,11,22,36,52,69,91,108,221,248,291,488,511,514,557,621,924,2140],[0.024268127272437913,3.016934481204594,3.0375537684073297,3.3252358408591105,3.730700948967275,4.13616605707544,4.075541435259004,4.200704578213011,4.343805421853684,4.711530201979001,4.711530201979001,5.52246041819533,5.29931686688112,5.52246041819533,11.04492083639066,5.52246041819533,5.52246041819533,5.810142490647111,6.215607598755275])|\n",
      "|[feel, offend, choos, tell, guy, feel, treat, guy, friend, would, want, put, stop, nonsens]                                           |(2383,[0,4,18,28,73,102,121,248,283,413,1213,1544],[2.0,1.0,1.0,1.0,1.0,1.0,1.0,1.0,2.0,1.0,1.0,1.0])                                                     |(2383,[0,4,18,28,73,102,121,248,283,413,1213,1544],[0.048536254544875826,2.765620052923688,3.3252358408591105,3.6129179133108917,4.075541435259004,4.269697449699962,4.4238481295272205,4.711530201979001,9.925689260519814,5.29931686688112,6.215607598755275,6.215607598755275])                                                                                                                                                 |\n",
      "|[rememb, feel, belong, smart, enough, cool, enough, even, young, enough]                                                              |(2383,[0,16,52,328,618,672,714,822],[1.0,1.0,3.0,1.0,1.0,1.0,1.0,1.0])                                                                                    |(2383,[0,16,52,328,618,672,714,822],[0.024268127272437913,3.2711686195888348,12.40849817122632,4.962844630259907,5.52246041819533,5.52246041819533,5.52246041819533,5.810142490647111])                                                                                                                                                                                                                                            |\n",
      "|[feel, like, redeem, even, though, think, realiz, distraught, ok]                                                                     |(2383,[0,1,14,16,44,340,360,473,1911],[1.0,1.0,1.0,1.0,1.0,1.0,1.0,1.0,1.0])                                                                              |(2383,[0,1,14,16,44,340,360,473,1911],[0.024268127272437913,1.8273504143307575,3.219875325201284,3.2711686195888348,3.7732605633860707,4.962844630259907,5.116995310087166,5.29931686688112,6.215607598755275])                                                                                                                                                                                                                    |\n",
      "+--------------------------------------------------------------------------------------------------------------------------------------+----------------------------------------------------------------------------------------------------------------------------------------------------------+-----------------------------------------------------------------------------------------------------------------------------------------------------------------------------------------------------------------------------------------------------------------------------------------------------------------------------------------------------------------------------------------------------------------------------------+\n",
      "only showing top 20 rows\n",
      "\n"
     ]
    },
    {
     "name": "stderr",
     "output_type": "stream",
     "text": [
      "                                                                                \r"
     ]
    },
    {
     "data": {
      "text/plain": [
       "[Row(_c0='0', text='i seriously hate one subject to death but now i feel reluctant to drop it', Emotion='hate', words=['i', 'seriously', 'hate', 'one', 'subject', 'to', 'death', 'but', 'now', 'i', 'feel', 'reluctant', 'to', 'drop', 'it'], filtered_words=['seriously', 'hate', 'one', 'subject', 'death', 'feel', 'reluctant', 'drop'], stemmed_words=['serious', 'hate', 'one', 'subject', 'death', 'feel', 'reluct', 'drop'], raw_features=SparseVector(2383, {0: 1.0, 23: 1.0, 47: 1.0, 172: 1.0, 395: 1.0, 400: 1.0, 538: 1.0, 560: 1.0}), tfidf_features=SparseVector(2383, {0: 0.0243, 23: 3.3824, 47: 3.8642, 172: 4.6062, 395: 5.117, 400: 5.117, 538: 5.5225, 560: 5.5225}))]"
      ]
     },
     "execution_count": 11,
     "metadata": {},
     "output_type": "execute_result"
    }
   ],
   "source": [
    "from pyspark.ml.feature import CountVectorizer, IDF\n",
    "\n",
    "# Paso 1: Crear el CountVectorizer para extraer el vocabulario y conteo de tokens\n",
    "cv = CountVectorizer(inputCol=\"stemmed_words\", outputCol=\"raw_features\")\n",
    "cv_model = cv.fit(df_stemmed)             # Entrenas el modelo con el vocabulario\n",
    "df_featurized = cv_model.transform(df_stemmed)  # Transformas el DataFrame\n",
    "\n",
    "# Paso 2: Calcular TF-IDF a partir del conteo\n",
    "idf = IDF(inputCol=\"raw_features\", outputCol=\"tfidf_features\")\n",
    "idf_model = idf.fit(df_featurized)          # Ajustar IDF sobre los datos\n",
    "df_tfidf = idf_model.transform(df_featurized) # Transformar con TF-IDF\n",
    "\n",
    "# Mostrar resultados\n",
    "df_tfidf.select(\"stemmed_words\", \"raw_features\", \"tfidf_features\").show(truncate=False)\n",
    "df_tfidf.head(1)"
   ]
  },
  {
   "cell_type": "markdown",
   "id": "3a634393",
   "metadata": {},
   "source": [
    "## Eliminación de puntuación\n"
   ]
  },
  {
   "cell_type": "code",
   "execution_count": 12,
   "id": "ee81793b",
   "metadata": {},
   "outputs": [
    {
     "data": {
      "text/plain": [
       "[Row(id='0', text='i seriously hate one subject to death but now i feel reluctant to drop it', emotion='hate'),\n",
       " Row(id='1', text='im so full of life i feel appalled', emotion='neutral'),\n",
       " Row(id='2', text='i sit here to write i start to dig out my feelings and i think that i am afraid to accept the possibility that he might not make it', emotion='neutral'),\n",
       " Row(id='3', text='ive been really angry with r and i feel like an idiot for trusting him in the first place', emotion='anger'),\n",
       " Row(id='4', text='i feel suspicious if there is no one outside like the rapture has happened or something', emotion='neutral')]"
      ]
     },
     "execution_count": 12,
     "metadata": {},
     "output_type": "execute_result"
    }
   ],
   "source": [
    "df_csv_clean = df_csv.dropna() \\\n",
    "    .withColumnRenamed(\"_c0\", \"id\") \\\n",
    "    .withColumnRenamed(\"Emotion\", \"emotion\") \\\n",
    "    .withColumn(\"text\", trim(col(\"text\"))) \\\n",
    "    .withColumn(\"text\", lower(col(\"text\"))) \\\n",
    "    .withColumn(\"text\", regexp_replace(col(\"text\"), r\"\\bi m\\b\", \"i'm\")) \\\n",
    "    .withColumn(\"text\", regexp_replace(col(\"text\"), r\"[^a-zA-Z0-9\\s']\", \"\"))  # keep letters, digits, spaces, apostrophes\n",
    "\n",
    "df_csv_clean.head(5)"
   ]
  },
  {
   "cell_type": "code",
   "execution_count": 13,
   "id": "c97a547f",
   "metadata": {},
   "outputs": [
    {
     "name": "stderr",
     "output_type": "stream",
     "text": [
      "                                                                                \r"
     ]
    },
    {
     "name": "stdout",
     "output_type": "stream",
     "text": [
      "+--------------------+------+\n",
      "|             emotion| count|\n",
      "+--------------------+------+\n",
      "|             neutral|674538|\n",
      "|                love| 39553|\n",
      "|           happiness| 27175|\n",
      "|             sadness| 17491|\n",
      "|              relief| 16729|\n",
      "|                hate| 15267|\n",
      "|               anger| 12356|\n",
      "|                 fun| 10075|\n",
      "|          enthusiasm|  9304|\n",
      "|            surprise|  6954|\n",
      "|               empty|  5542|\n",
      "|               worry|  4475|\n",
      "|           [deleted]|  3861|\n",
      "|#model   i love u...|   319|\n",
      "|             boredom|   126|\n",
      "|              #NAME?|   123|\n",
      "|        CakeDay--Bot|    96|\n",
      "|i finally found a...|    82|\n",
      "|aww yeah it's all...|    75|\n",
      "|       devildriver77|    74|\n",
      "+--------------------+------+\n",
      "\n"
     ]
    },
    {
     "name": "stderr",
     "output_type": "stream",
     "text": [
      "                                                                                \r"
     ]
    }
   ],
   "source": [
    "# Get count per Emotion\n",
    "emotion_counts = df_csv_clean.groupBy(\"emotion\").count()\n",
    "\n",
    "# Order by count descending and take top 10\n",
    "top_10_emotions = emotion_counts.orderBy(col(\"count\").desc()).limit(20)\n",
    "\n",
    "top_10_emotions.show()\n",
    "\n",
    "emotion_names = [row['emotion'] for row in top_10_emotions.collect()]\n"
   ]
  },
  {
   "cell_type": "markdown",
   "id": "30cc0352",
   "metadata": {},
   "source": [
    "# Store in MongoDB"
   ]
  },
  {
   "cell_type": "code",
   "execution_count": null,
   "id": "2278c738",
   "metadata": {},
   "outputs": [
    {
     "name": "stdout",
     "output_type": "stream",
     "text": [
      "root\n",
      " |-- _c0: string (nullable = true)\n",
      " |-- text: string (nullable = true)\n",
      " |-- Emotion: string (nullable = true)\n",
      " |-- words: array (nullable = true)\n",
      " |    |-- element: string (containsNull = true)\n",
      " |-- filtered_words: array (nullable = true)\n",
      " |    |-- element: string (containsNull = true)\n",
      " |-- stemmed_words: array (nullable = true)\n",
      " |    |-- element: string (containsNull = true)\n",
      " |-- raw_features: vector (nullable = true)\n",
      " |-- tfidf_features: vector (nullable = true)\n",
      "\n"
     ]
    }
   ],
   "source": [
    "df_tfidf.printSchema()"
   ]
  },
  {
   "cell_type": "code",
   "execution_count": 20,
   "id": "56badaf5",
   "metadata": {},
   "outputs": [
    {
     "name": "stderr",
     "output_type": "stream",
     "text": [
      "                                                                                \r"
     ]
    }
   ],
   "source": [
    "\n",
    "from pyspark.sql.functions import udf\n",
    "from pyspark.sql.types import ArrayType, FloatType\n",
    "from pyspark.ml.linalg import VectorUDT\n",
    "\n",
    "def vector_to_array(v):\n",
    "    return v.toArray().tolist() if v else None\n",
    "\n",
    "vector_to_array_udf = udf(vector_to_array, ArrayType(FloatType()))\n",
    "\n",
    "df_tfidf_safe = df_tfidf \\\n",
    "    .withColumn(\"raw_features_array\", vector_to_array_udf(\"raw_features\")) \\\n",
    "    .withColumn(\"tfidf_features_array\", vector_to_array_udf(\"tfidf_features\"))\n",
    "\n",
    "df_tfidf_safe.select(\n",
    "    \"text\", \"Emotion\", \"words\", \"filtered_words\", \"stemmed_words\",\n",
    "    \"raw_features_array\", \"tfidf_features_array\"\n",
    ").write \\\n",
    "    .format(\"mongo\") \\\n",
    "    .option(\"uri\", \"mongodb://localhost:27017\") \\\n",
    "    .option(\"database\", \"tfm\") \\\n",
    "    .option(\"collection\", \"tf-idf\") \\\n",
    "    .mode(\"append\") \\\n",
    "    .save()"
   ]
  }
 ],
 "metadata": {
  "kernelspec": {
   "display_name": "spark_py3.9",
   "language": "python",
   "name": "python3"
  },
  "language_info": {
   "codemirror_mode": {
    "name": "ipython",
    "version": 3
   },
   "file_extension": ".py",
   "mimetype": "text/x-python",
   "name": "python",
   "nbconvert_exporter": "python",
   "pygments_lexer": "ipython3",
   "version": "3.9.23"
  }
 },
 "nbformat": 4,
 "nbformat_minor": 5
}
