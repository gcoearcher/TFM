{
 "cells": [
  {
   "cell_type": "code",
   "execution_count": 30,
   "id": "f6b9bda8",
   "metadata": {},
   "outputs": [],
   "source": [
    "from pyspark.sql import SparkSession, functions as F\n",
    "from delta import configure_spark_with_delta_pip\n",
    "import os"
   ]
  },
  {
   "cell_type": "code",
   "execution_count": 2,
   "id": "5744aeb0",
   "metadata": {},
   "outputs": [
    {
     "name": "stderr",
     "output_type": "stream",
     "text": [
      "WARNING: Using incubator modules: jdk.incubator.vector\n",
      "Using Spark's default log4j profile: org/apache/spark/log4j2-defaults.properties\n",
      "25/06/22 20:58:44 WARN Utils: Your hostname, provira-ERAZER-P6705-MD61203, resolves to a loopback address: 127.0.1.1; using 192.168.1.55 instead (on interface wlo1)\n",
      "25/06/22 20:58:44 WARN Utils: Set SPARK_LOCAL_IP if you need to bind to another address\n",
      ":: loading settings :: url = jar:file:/home/provira/anaconda3/envs/py_tfm_env/lib/python3.11/site-packages/pyspark/jars/ivy-2.5.3.jar!/org/apache/ivy/core/settings/ivysettings.xml\n",
      "Ivy Default Cache set to: /home/provira/.ivy2.5.2/cache\n",
      "The jars for the packages stored in: /home/provira/.ivy2.5.2/jars\n",
      "io.delta#delta-spark_2.13 added as a dependency\n",
      ":: resolving dependencies :: org.apache.spark#spark-submit-parent-540aa8f8-3012-40d5-a27f-026302049d33;1.0\n",
      "\tconfs: [default]\n",
      "\tfound io.delta#delta-spark_2.13;4.0.0 in central\n",
      "\tfound io.delta#delta-storage;4.0.0 in central\n",
      "\tfound org.antlr#antlr4-runtime;4.13.1 in central\n",
      ":: resolution report :: resolve 247ms :: artifacts dl 6ms\n",
      "\t:: modules in use:\n",
      "\tio.delta#delta-spark_2.13;4.0.0 from central in [default]\n",
      "\tio.delta#delta-storage;4.0.0 from central in [default]\n",
      "\torg.antlr#antlr4-runtime;4.13.1 from central in [default]\n",
      "\t---------------------------------------------------------------------\n",
      "\t|                  |            modules            ||   artifacts   |\n",
      "\t|       conf       | number| search|dwnlded|evicted|| number|dwnlded|\n",
      "\t---------------------------------------------------------------------\n",
      "\t|      default     |   3   |   0   |   0   |   0   ||   3   |   0   |\n",
      "\t---------------------------------------------------------------------\n",
      ":: retrieving :: org.apache.spark#spark-submit-parent-540aa8f8-3012-40d5-a27f-026302049d33\n",
      "\tconfs: [default]\n",
      "\t0 artifacts copied, 3 already retrieved (0kB/8ms)\n",
      "25/06/22 20:58:45 WARN NativeCodeLoader: Unable to load native-hadoop library for your platform... using builtin-java classes where applicable\n",
      "Using Spark's default log4j profile: org/apache/spark/log4j2-defaults.properties\n",
      "Setting default log level to \"WARN\".\n",
      "To adjust logging level use sc.setLogLevel(newLevel). For SparkR, use setLogLevel(newLevel).\n"
     ]
    }
   ],
   "source": [
    "builder = SparkSession.builder \\\n",
    "    .appName(\"Delta Lake\") \\\n",
    "    .config(\"spark.sql.extensions\", \"io.delta.sql.DeltaSparkSessionExtension\") \\\n",
    "    .config(\"spark.sql.catalog.spark_catalog\", \"org.apache.spark.sql.delta.catalog.DeltaCatalog\")\n",
    "\n",
    "spark = configure_spark_with_delta_pip(builder).getOrCreate()"
   ]
  },
  {
   "cell_type": "code",
   "execution_count": 22,
   "id": "ae52c817",
   "metadata": {},
   "outputs": [],
   "source": [
    "path_data = \"./../../../datasets/\"\n",
    "types = ['csv', 'parquet', 'json']\n",
    "sources = ['Kaggle', 'uci', 'aws']"
   ]
  },
  {
   "cell_type": "code",
   "execution_count": null,
   "id": "19da8f94",
   "metadata": {},
   "outputs": [
    {
     "name": "stdout",
     "output_type": "stream",
     "text": [
      "Loaded 1100992 rows for type csv\n",
      "Loaded 416809 rows for type parquet\n"
     ]
    }
   ],
   "source": [
    "dfs = {}\n",
    "\n",
    "for source in sources:\n",
    "    for file_type in types:\n",
    "\n",
    "        path = f'{path_data}{source}/{file_type}'\n",
    "        if os.path.exists(path):\n",
    "            \n",
    "            df = spark.read.option(\"header\", \"true\") \\\n",
    "                .option(\"recursiveFileLookup\", \"true\") \\\n",
    "                .format(file_type) \\\n",
    "                .load(path)\n",
    "            dfs[file_type] = df\n",
    "            print(f\"Loaded {df.count()} rows for type {file_type}\")"
   ]
  },
  {
   "cell_type": "code",
   "execution_count": 37,
   "id": "8e0d3c91",
   "metadata": {},
   "outputs": [
    {
     "name": "stderr",
     "output_type": "stream",
     "text": [
      "25/06/22 21:45:26 WARN CSVHeaderChecker: Number of column in CSV header is not equal to number of fields in the schema:\n",
      " Header length: 37, schema size: 3\n",
      "CSV file: file:///home/provira/Documents/TFM/TFM/datasets/Kaggle/csv/GoEmotions/goemotions_1.csv\n",
      "25/06/22 21:45:26 WARN CSVHeaderChecker: Number of column in CSV header is not equal to number of fields in the schema:\n",
      " Header length: 37, schema size: 3\n",
      "CSV file: file:///home/provira/Documents/TFM/TFM/datasets/Kaggle/csv/GoEmotions/goemotions_3.csv\n",
      "25/06/22 21:45:26 WARN CSVHeaderChecker: Number of column in CSV header is not equal to number of fields in the schema:\n",
      " Header length: 37, schema size: 3\n",
      "CSV file: file:///home/provira/Documents/TFM/TFM/datasets/Kaggle/csv/GoEmotions/goemotions_2.csv\n",
      "25/06/22 21:45:26 WARN CSVHeaderChecker: Number of column in CSV header is not equal to number of fields in the schema:\n",
      " Header length: 2, schema size: 3\n",
      "CSV file: file:///home/provira/Documents/TFM/TFM/datasets/Kaggle/csv/DailyDialog.csv\n",
      "25/06/22 21:45:26 WARN CSVHeaderChecker: CSV header does not conform to the schema.\n",
      " Header: , text, Emotion\n",
      " Schema: _c0, text, Emotion\n",
      "Expected: _c0 but found: \n",
      "CSV file: file:///home/provira/Documents/TFM/TFM/datasets/Kaggle/csv/emotion_sentimen_dataset.csv\n",
      "25/06/22 21:45:26 WARN MemoryManager: Total allocation exceeds 95.00% (1,020,054,720 bytes) of heap memory\n",
      "Scaling row group sizes to 95.00% for 8 writers\n",
      "25/06/22 21:45:26 WARN MemoryManager: Total allocation exceeds 95.00% (1,020,054,720 bytes) of heap memory\n",
      "Scaling row group sizes to 84.44% for 9 writers\n",
      "25/06/22 21:45:26 WARN MemoryManager: Total allocation exceeds 95.00% (1,020,054,720 bytes) of heap memory\n",
      "Scaling row group sizes to 76.00% for 10 writers\n",
      "25/06/22 21:45:26 WARN MemoryManager: Total allocation exceeds 95.00% (1,020,054,720 bytes) of heap memory\n",
      "Scaling row group sizes to 69.09% for 11 writers\n",
      "25/06/22 21:45:27 WARN CSVHeaderChecker: Number of column in CSV header is not equal to number of fields in the schema:\n",
      " Header length: 2, schema size: 3\n",
      "CSV file: file:///home/provira/Documents/TFM/TFM/datasets/Kaggle/csv/Emotion_classify_Data.csv\n",
      "25/06/22 21:45:27 WARN CSVHeaderChecker: Number of column in CSV header is not equal to number of fields in the schema:\n",
      " Header length: 2, schema size: 3\n",
      "CSV file: file:///home/provira/Documents/TFM/TFM/datasets/Kaggle/csv/tweet_sentiment.csv\n",
      "25/06/22 21:45:27 WARN MemoryManager: Total allocation exceeds 95.00% (1,020,054,720 bytes) of heap memory\n",
      "Scaling row group sizes to 76.00% for 10 writers\n",
      "25/06/22 21:45:28 WARN CSVHeaderChecker: CSV header does not conform to the schema.\n",
      " Header: id, label, tweet\n",
      " Schema: _c0, text, Emotion\n",
      "Expected: _c0 but found: id\n",
      "CSV file: file:///home/provira/Documents/TFM/TFM/datasets/Kaggle/csv/twitter.csv\n",
      "25/06/22 21:45:28 WARN MemoryManager: Total allocation exceeds 95.00% (1,020,054,720 bytes) of heap memory\n",
      "Scaling row group sizes to 84.44% for 9 writers\n",
      "25/06/22 21:45:29 WARN MemoryManager: Total allocation exceeds 95.00% (1,020,054,720 bytes) of heap memory\n",
      "Scaling row group sizes to 95.00% for 8 writers\n",
      "                                                                                \r"
     ]
    }
   ],
   "source": [
    "for name, df in dfs.items():\n",
    "    df.write.format(\"delta\").mode(\"overwrite\").save(f\"./../../../delta_lake/{name}\")"
   ]
  }
 ],
 "metadata": {
  "kernelspec": {
   "display_name": "py_tfm_env",
   "language": "python",
   "name": "python3"
  },
  "language_info": {
   "codemirror_mode": {
    "name": "ipython",
    "version": 3
   },
   "file_extension": ".py",
   "mimetype": "text/x-python",
   "name": "python",
   "nbconvert_exporter": "python",
   "pygments_lexer": "ipython3",
   "version": "3.11.13"
  }
 },
 "nbformat": 4,
 "nbformat_minor": 5
}
